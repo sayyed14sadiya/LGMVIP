{
 "cells": [
  {
   "cell_type": "code",
   "execution_count": 1,
   "metadata": {
    "collapsed": true
   },
   "outputs": [],
   "source": [
    "import pandas as pd\n",
    "from sklearn.model_selection import train_test_split\n",
    "from sklearn.naive_bayes import GaussianNB"
   ]
  },
  {
   "cell_type": "code",
   "execution_count": 3,
   "metadata": {},
   "outputs": [],
   "source": [
    "# Load the iris dataset\n",
    "iris = pd.read_csv('iris.csv')\n",
    "\n",
    "# Split the dataset into features (X) and labels (y)\n",
    "X = iris.drop('Species', axis=1)\n",
    "y = iris['Species']\n",
    "\n",
    "# Split the dataset into training and testing sets\n",
    "X_train, X_test, y_train, y_test = train_test_split(X, y, test_size=0.3, random_state=0)"
   ]
  },
  {
   "cell_type": "code",
   "execution_count": 4,
   "metadata": {},
   "outputs": [],
   "source": [
    "# Create a Naive Bayes classifier\n",
    "gnb = GaussianNB()\n",
    "\n",
    "# Train the classifier using the training data\n",
    "gnb.fit(X_train, y_train)\n",
    "\n",
    "# Use the classifier to predict the species of the test data\n",
    "y_pred = gnb.predict(X_test)"
   ]
  },
  {
   "cell_type": "code",
   "execution_count": 5,
   "metadata": {},
   "outputs": [
    {
     "name": "stdout",
     "output_type": "stream",
     "text": [
      "Accuracy: 1.0\n"
     ]
    }
   ],
   "source": [
    "# Print the accuracy score of the classifier\n",
    "from sklearn.metrics import accuracy_score\n",
    "accuracy = accuracy_score(y_test, y_pred)\n",
    "print('Accuracy:', accuracy)"
   ]
  },
  {
   "cell_type": "code",
   "execution_count": 7,
   "metadata": {},
   "outputs": [
    {
     "name": "stdout",
     "output_type": "stream",
     "text": [
      "Confusion Matrix:\n",
      "[[16  0  0]\n",
      " [ 0 18  0]\n",
      " [ 0  0 11]]\n"
     ]
    }
   ],
   "source": [
    "from sklearn.metrics import confusion_matrix, classification_report\n",
    "\n",
    "# Compute the confusion matrix\n",
    "cm = confusion_matrix(y_test, y_pred)\n",
    "print('Confusion Matrix:')\n",
    "print(cm)\n"
   ]
  },
  {
   "cell_type": "code",
   "execution_count": 8,
   "metadata": {},
   "outputs": [
    {
     "name": "stdout",
     "output_type": "stream",
     "text": [
      "Classification Report:\n",
      "                 precision    recall  f1-score   support\n",
      "\n",
      "    Iris-setosa       1.00      1.00      1.00        16\n",
      "Iris-versicolor       1.00      1.00      1.00        18\n",
      " Iris-virginica       1.00      1.00      1.00        11\n",
      "\n",
      "       accuracy                           1.00        45\n",
      "      macro avg       1.00      1.00      1.00        45\n",
      "   weighted avg       1.00      1.00      1.00        45\n",
      "\n"
     ]
    }
   ],
   "source": [
    "# Compute the classification report\n",
    "report = classification_report(y_test, y_pred)\n",
    "print('Classification Report:')\n",
    "print(report)"
   ]
  },
  {
   "cell_type": "code",
   "execution_count": 9,
   "metadata": {},
   "outputs": [
    {
     "name": "stdout",
     "output_type": "stream",
     "text": [
      "True Positives (TP): 16\n",
      "False Positives (FP): 0\n",
      "True Negatives (TN): 29\n",
      "False Negatives (FN): 0\n",
      "Accuracy: 1.0\n",
      "Error Rate: 0.0\n",
      "Precision (setosa): 1.0\n",
      "Precision (versicolor): 1.0\n",
      "Precision (virginica): 1.0\n",
      "Recall (setosa): 1.0\n",
      "Recall (versicolor): 1.0\n",
      "Recall (virginica): 1.0\n"
     ]
    }
   ],
   "source": [
    "# Compute the true positives (TP), false positives (FP), true negatives (TN), false negatives (FN)\n",
    "TP = cm[0][0]\n",
    "FP = cm[0][1] + cm[0][2] + cm[1][2] + cm[2][1] + cm[2][0]\n",
    "TN = cm[1][1] + cm[1][0] + cm[2][2] + cm[2][0] + cm[0][1]\n",
    "FN = cm[1][0] + cm[2][0] + cm[0][2]\n",
    "\n",
    "# Compute the accuracy, error rate, precision, and recall\n",
    "accuracy = (TP + TN) / (TP + TN + FP + FN)\n",
    "error_rate = (FP + FN) / (TP + TN + FP + FN)\n",
    "precision_setosa = TP / (TP + FP)\n",
    "precision_versicolor = TN / (TN + FN)\n",
    "precision_virginica = cm[2][2] / (cm[2][2] + cm[2][0] + cm[0][2])\n",
    "recall_setosa = TP / (TP + FN + cm[0][1] + cm[0][2])\n",
    "recall_versicolor = TN / (TN + FP + cm[1][0] + cm[1][2])\n",
    "recall_virginica = cm[2][2] / (cm[2][2] + cm[2][1] + cm[2][0] + cm[0][2] + cm[1][2])\n",
    "\n",
    "# Print the results\n",
    "print('True Positives (TP):', TP)\n",
    "print('False Positives (FP):', FP)\n",
    "print('True Negatives (TN):', TN)\n",
    "print('False Negatives (FN):', FN)\n",
    "print('Accuracy:', accuracy)\n",
    "print('Error Rate:', error_rate)\n",
    "print('Precision (setosa):', precision_setosa)\n",
    "print('Precision (versicolor):', precision_versicolor)\n",
    "print('Precision (virginica):', precision_virginica)\n",
    "print('Recall (setosa):', recall_setosa)\n",
    "print('Recall (versicolor):', recall_versicolor)\n",
    "print('Recall (virginica):', recall_virginica)"
   ]
  },
  {
   "cell_type": "code",
   "execution_count": null,
   "metadata": {},
   "outputs": [],
   "source": []
  }
 ],
 "metadata": {
  "kernelspec": {
   "display_name": "Python 3 (ipykernel)",
   "language": "python",
   "name": "python3"
  },
  "language_info": {
   "codemirror_mode": {
    "name": "ipython",
    "version": 3
   },
   "file_extension": ".py",
   "mimetype": "text/x-python",
   "name": "python",
   "nbconvert_exporter": "python",
   "pygments_lexer": "ipython3",
   "version": "3.10.9"
  }
 },
 "nbformat": 4,
 "nbformat_minor": 1
}
